{
 "cells": [
  {
   "cell_type": "markdown",
   "metadata": {},
   "source": [
    "\\#importing the required libraries import pandas as pd import numpy as\n",
    "np import seaborn as sns import matplotlib.pyplot as plt from\n",
    "keras.datasets import mnist from keras.layers import Dense, Flatten,\n",
    "MaxPooling2D, Dropout from keras.layers.convolutional import Conv2D from\n",
    "keras.models import Sequential from tensorflow.keras.utils import\n",
    "to_categorical import cv2 (X_train, y_train), (X_test, y_test) =\n",
    "mnist.load_data() \\#Analyzing the Data plt.imshow(X_train\\[0\\],\n",
    "cmap=“binary”) plt.show() print (y_train\\[0\\])\n",
    "\n",
    "5 \\#Reshaping the Data print(“—Before reshaping the Data—”) print(“Shape\n",
    "of X_train: {}”.format(X_train.shape)) print(“Shape of y_train:\n",
    "{}”.format(y_train.shape)) print(“Shape of X_test:\n",
    "{}”.format(X_test.shape)) print(“Shape of y_test:\n",
    "{}”.format(y_test.shape)) print(“—————————————–”) print() print(“—After\n",
    "reshaping the Data—”) X_train = X_train.reshape(60000, 28, 28, 1) X_test\n",
    "= X_test.reshape(10000, 28, 28, 1) print(“Shape of X_train:\n",
    "{}”.format(X_train.shape)) print(“Shape of y_train:\n",
    "{}”.format(y_train.shape)) print(“Shape of X_test:\n",
    "{}”.format(X_test.shape)) print(“Shape of y_test:\n",
    "{}”.format(y_test.shape)) print(“—————————————–”) —Before reshaping the\n",
    "Data— Shape of X_train: (60000, 28, 28, 1) Shape of y_train: (60000,)\n",
    "Shape of X_test: (10000, 28, 28, 1) Shape of y_test: (10000,)\n",
    "—————————————–\n",
    "\n",
    "—After reshaping the Data— Shape of X_train: (60000, 28, 28, 1) Shape of\n",
    "y_train: (60000,) Shape of X_test: (10000, 28, 28, 1) Shape of y_test:\n",
    "(10000,) —————————————–"
   ]
  }
 ],
 "nbformat": 4,
 "nbformat_minor": 5,
 "metadata": {}
}
