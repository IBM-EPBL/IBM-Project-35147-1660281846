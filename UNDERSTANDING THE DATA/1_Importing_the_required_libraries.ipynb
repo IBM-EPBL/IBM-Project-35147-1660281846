{
 "cells": [
  {
   "cell_type": "markdown",
   "metadata": {},
   "source": [
    "\\#importing the required libraries import pandas as pd import numpy as\n",
    "np import seaborn as sns from keras.datasets import mnist from\n",
    "keras.layers import Dense, Flatten, MaxPooling2D, Dropout from\n",
    "keras.layers.convolutional import Conv2D from keras.models import\n",
    "Sequential from tensorflow.keras.utils import to_categorical import cv2"
   ]
  }
 ],
 "nbformat": 4,
 "nbformat_minor": 5,
 "metadata": {}
}
