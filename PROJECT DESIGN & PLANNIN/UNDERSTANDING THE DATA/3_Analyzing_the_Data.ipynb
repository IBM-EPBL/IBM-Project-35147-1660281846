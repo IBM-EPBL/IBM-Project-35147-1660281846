{
 "cells": [
  {
   "cell_type": "markdown",
   "metadata": {},
   "source": [
    "\\#importing the required libraries import pandas as pd import numpy as\n",
    "np import seaborn as sns import matplotlib.pyplot as plt from\n",
    "keras.datasets import mnist from keras.layers import Dense, Flatten,\n",
    "MaxPooling2D, Dropout from keras.layers.convolutional import Conv2D from\n",
    "keras.models import Sequential from tensorflow.keras.utils import\n",
    "to_categorical import cv2 (X_train, y_train), (X_test, y_test) =\n",
    "mnist.load_data() \\#Analyzing the Data plt.imshow(X_train\\[0\\],\n",
    "cmap=“binary”) plt.show() print (y_train\\[0\\])"
   ]
  }
 ],
 "nbformat": 4,
 "nbformat_minor": 5,
 "metadata": {}
}
