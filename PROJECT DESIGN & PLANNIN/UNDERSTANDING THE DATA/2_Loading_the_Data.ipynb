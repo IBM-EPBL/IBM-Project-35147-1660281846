{
 "cells": [
  {
   "cell_type": "markdown",
   "metadata": {},
   "source": [
    "\\#importing the required libraries import pandas as pd import numpy as\n",
    "np import seaborn as sns from keras.datasets import mnist from\n",
    "keras.layers import Dense, Flatten, MaxPooling2D, Dropout from\n",
    "keras.layers.convolutional import Conv2D from keras.models import\n",
    "Sequential from tensorflow.keras.utils import to_categorical import cv2\n",
    "(X_train, y_train), (X_test, y_test) = mnist.load_data() Downloading\n",
    "data from\n",
    "https://storage.googleapis.com/tensorflow/tf-keras-datasets/mnist.npz\n",
    "11490434/11490434 \\[==============================\\] - 0s 0us/step"
   ]
  }
 ],
 "nbformat": 4,
 "nbformat_minor": 5,
 "metadata": {}
}
